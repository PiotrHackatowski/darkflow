{
  "nbformat": 4,
  "nbformat_minor": 0,
  "metadata": {
    "colab": {
      "name": "recognize_cars.ipynb",
      "version": "0.3.2",
      "provenance": [],
      "collapsed_sections": [
        "2DpStAEORuCr"
      ],
      "include_colab_link": true
    },
    "kernelspec": {
      "name": "python3",
      "display_name": "Python 3"
    },
    "accelerator": "GPU"
  },
  "cells": [
    {
      "cell_type": "markdown",
      "metadata": {
        "id": "view-in-github",
        "colab_type": "text"
      },
      "source": [
        "[View in Colaboratory](https://colab.research.google.com/github/PiotrHackatowski/darkflow/blob/master/recognize_cars.ipynb)"
      ]
    },
    {
      "metadata": {
        "id": "HvZQmgRwdscG",
        "colab_type": "code",
        "colab": {
          "base_uri": "https://localhost:8080/",
          "height": 306
        },
        "outputId": "9509dbdb-d8e3-4958-84f3-fadab067252e"
      },
      "cell_type": "code",
      "source": [
        "!ls -l /gdrive\n",
        "import tensorflow as tf\n",
        "tf.test.gpu_device_name()\n",
        "from tensorflow.python.client import device_lib\n",
        "device_lib.list_local_devices()"
      ],
      "execution_count": 14,
      "outputs": [
        {
          "output_type": "stream",
          "text": [
            "total 4\n",
            "drwx------ 13 root root 4096 Sep 28 08:37 My Drive\n"
          ],
          "name": "stdout"
        },
        {
          "output_type": "execute_result",
          "data": {
            "text/plain": [
              "[name: \"/device:CPU:0\"\n",
              " device_type: \"CPU\"\n",
              " memory_limit: 268435456\n",
              " locality {\n",
              " }\n",
              " incarnation: 4250987896448034216, name: \"/device:GPU:0\"\n",
              " device_type: \"GPU\"\n",
              " memory_limit: 11281989632\n",
              " locality {\n",
              "   bus_id: 1\n",
              "   links {\n",
              "   }\n",
              " }\n",
              " incarnation: 7709059542074424778\n",
              " physical_device_desc: \"device: 0, name: Tesla K80, pci bus id: 0000:00:04.0, compute capability: 3.7\"]"
            ]
          },
          "metadata": {
            "tags": []
          },
          "execution_count": 14
        }
      ]
    },
    {
      "metadata": {
        "id": "jMCPXeVHlvb_",
        "colab_type": "code",
        "colab": {
          "base_uri": "https://localhost:8080/",
          "height": 122
        },
        "outputId": "db081e85-d79f-42f2-f885-e9742940dfe1"
      },
      "cell_type": "code",
      "source": [
        "from google.colab import drive\n",
        "drive.mount('/gdrive')"
      ],
      "execution_count": 2,
      "outputs": [
        {
          "output_type": "stream",
          "text": [
            "Go to this URL in a browser: https://accounts.google.com/o/oauth2/auth?client_id=947318989803-6bn6qk8qdgf4n4g3pfee6491hc0brc4i.apps.googleusercontent.com&redirect_uri=urn%3Aietf%3Awg%3Aoauth%3A2.0%3Aoob&scope=email%20https%3A%2F%2Fwww.googleapis.com%2Fauth%2Fdocs.test%20https%3A%2F%2Fwww.googleapis.com%2Fauth%2Fdrive%20https%3A%2F%2Fwww.googleapis.com%2Fauth%2Fdrive.photos.readonly%20https%3A%2F%2Fwww.googleapis.com%2Fauth%2Fpeopleapi.readonly&response_type=code\n",
            "\n",
            "Enter your authorization code:\n",
            "··········\n",
            "Mounted at /gdrive\n"
          ],
          "name": "stdout"
        }
      ]
    },
    {
      "metadata": {
        "id": "vg01TwxDnXrJ",
        "colab_type": "code",
        "colab": {
          "base_uri": "https://localhost:8080/",
          "height": 170
        },
        "outputId": "5485605b-3439-467d-9c92-ab63e51836cb"
      },
      "cell_type": "code",
      "source": [
        "%cd \"/content\"\n",
        "#%cd \"/gdrive/My Drive/Colab\"\n",
        "!git clone https://github.com/PiotrHackatowski/darkflow.git\n",
        "%cd \"/content/darkflow\""
      ],
      "execution_count": 3,
      "outputs": [
        {
          "output_type": "stream",
          "text": [
            "/content\n",
            "Cloning into 'darkflow'...\n",
            "remote: Enumerating objects: 9, done.\u001b[K\n",
            "remote: Counting objects: 100% (9/9), done.\u001b[K\n",
            "remote: Compressing objects: 100% (7/7), done.\u001b[K\n",
            "remote: Total 2804 (delta 2), reused 0 (delta 0), pack-reused 2795\u001b[K\n",
            "Receiving objects: 100% (2804/2804), 18.77 MiB | 8.89 MiB/s, done.\n",
            "Resolving deltas: 100% (1833/1833), done.\n",
            "/content/darkflow\n"
          ],
          "name": "stdout"
        }
      ]
    },
    {
      "metadata": {
        "id": "dvyCh6Msnvn0",
        "colab_type": "code",
        "colab": {
          "base_uri": "https://localhost:8080/",
          "height": 136
        },
        "outputId": "771ea049-7674-488e-887a-648ecae48020"
      },
      "cell_type": "code",
      "source": [
        "!pip install Cython\n",
        "!pip install -e .\n",
        "!mkdir bin && cp \"/gdrive/My Drive/Colab/tiny-yolo-voc.weights\" bin/"
      ],
      "execution_count": 7,
      "outputs": [
        {
          "output_type": "stream",
          "text": [
            "Requirement already satisfied: Cython in /usr/local/lib/python3.6/dist-packages (0.28.5)\n",
            "Obtaining file:///content/darkflow\n",
            "Installing collected packages: darkflow\n",
            "  Found existing installation: darkflow 1.0.0\n",
            "    Can't uninstall 'darkflow'. No files were found to uninstall.\n",
            "  Running setup.py develop for darkflow\n",
            "Successfully installed darkflow\n"
          ],
          "name": "stdout"
        }
      ]
    },
    {
      "metadata": {
        "id": "NltqTpapVF40",
        "colab_type": "code",
        "colab": {
          "base_uri": "https://localhost:8080/",
          "height": 306
        },
        "outputId": "fcfe806e-8205-4def-f2f7-846b2b07ea5c"
      },
      "cell_type": "code",
      "source": [
        "!ls -l"
      ],
      "execution_count": 6,
      "outputs": [
        {
          "output_type": "stream",
          "text": [
            "total 14956\n",
            "drwxr-xr-x 4 root root     4096 Sep 28 08:38 build\n",
            "drwxr-xr-x 4 root root     4096 Sep 28 08:37 cfg\n",
            "-rw-r--r-- 1 root root      293 Sep 28 08:37 create_own_dataset.py\n",
            "drwxr-xr-x 7 root root     4096 Sep 28 08:37 darkflow\n",
            "drwxr-xr-x 2 root root     4096 Sep 28 08:37 darkflow.egg-info\n",
            "-rw-r--r-- 1 root root 14900940 Sep 28 08:37 demo.gif\n",
            "-rwxr-xr-x 1 root root       94 Sep 28 08:37 flow\n",
            "drwxr-xr-x 2 root root     4096 Sep 28 08:37 img_diff\n",
            "-rw-r--r-- 1 root root        6 Sep 28 08:37 labels.txt\n",
            "-rw-r--r-- 1 root root    35141 Sep 28 08:37 LICENSE\n",
            "-rw-r--r-- 1 root root   283380 Sep 28 08:37 preview.png\n",
            "-rw-r--r-- 1 root root    11539 Sep 28 08:37 README.md\n",
            "-rw-r--r-- 1 root root    32509 Sep 28 08:37 recognize_cars.ipynb\n",
            "drwxr-xr-x 2 root root     4096 Sep 28 08:37 sample_img\n",
            "-rw-r--r-- 1 root root     2575 Sep 28 08:37 setup.py\n",
            "drwxr-xr-x 3 root root     4096 Sep 28 08:37 test\n"
          ],
          "name": "stdout"
        }
      ]
    },
    {
      "metadata": {
        "id": "2DpStAEORuCr",
        "colab_type": "text"
      },
      "cell_type": "markdown",
      "source": [
        "### Detect cars"
      ]
    },
    {
      "metadata": {
        "id": "YYZnWFTYqDHj",
        "colab_type": "code",
        "colab": {}
      },
      "cell_type": "code",
      "source": [
        "#!rm -rf \"/gdrive/My Drive/Colab/cars_input/out\"\n",
        "!./flow --imgdir \"/gdrive/My Drive/Colab/spark_huge\" --model cfg/tiny-yolo-voc.cfg --load bin/tiny-yolo-voc.weights --gpu 1.0 --json\n",
        "#!./flow --demo \"/gdrive/My Drive/Colab/video_input/Audi A6 C6 Commercial 720.mp4\" --saveVideo --model cfg/tiny-yolo-voc.cfg --load bin/tiny-yolo-voc.weights --gpu 1.0"
      ],
      "execution_count": 0,
      "outputs": []
    },
    {
      "metadata": {
        "id": "WZtA10evgcJ8",
        "colab_type": "code",
        "colab": {}
      },
      "cell_type": "code",
      "source": [
        "!ls -l \"/gdrive/My Drive/\""
      ],
      "execution_count": 0,
      "outputs": []
    },
    {
      "metadata": {
        "id": "OfUHWF5jRx7D",
        "colab_type": "text"
      },
      "cell_type": "markdown",
      "source": [
        "## Train new data"
      ]
    },
    {
      "metadata": {
        "id": "RUaSTSGhwbzy",
        "colab_type": "code",
        "colab": {}
      },
      "cell_type": "code",
      "source": [
        "!git pull"
      ],
      "execution_count": 0,
      "outputs": []
    },
    {
      "metadata": {
        "id": "KRDClQzQ4Va_",
        "colab_type": "code",
        "colab": {
          "base_uri": "https://localhost:8080/",
          "height": 952
        },
        "outputId": "190b8106-91a1-4d05-8316-8247343f7899"
      },
      "cell_type": "code",
      "source": [
        "!flow --model cfg/tiny-yolo-nic-voc.cfg --load bin/tiny-yolo-voc.weights --train --backup \"/gdrive/My Drive/Colab/ckpt\" --annotation \"/gdrive/My Drive/Colab/spark_huge_final2/ann\" --dataset \"/gdrive/My Drive/Colab/spark_huge_final2/images\" --epoch 2000 --load 32884 --gpu 1.0  --batch 32 --save 10000"
      ],
      "execution_count": 0,
      "outputs": [
        {
          "output_type": "stream",
          "text": [
            "\n",
            "Parsing cfg/tiny-yolo-nic-voc.cfg\n",
            "Loading None ...\n",
            "Finished in 9.250640869140625e-05s\n",
            "\n",
            "Building net ...\n",
            "Source | Train? | Layer description                | Output size\n",
            "-------+--------+----------------------------------+---------------\n",
            "       |        | input                            | (?, 416, 416, 3)\n",
            " Init  |  Yep!  | conv 3x3p1_1  +bnorm  leaky      | (?, 416, 416, 16)\n",
            " Load  |  Yep!  | maxp 2x2p0_2                     | (?, 208, 208, 16)\n",
            " Init  |  Yep!  | conv 3x3p1_1  +bnorm  leaky      | (?, 208, 208, 32)\n",
            " Load  |  Yep!  | maxp 2x2p0_2                     | (?, 104, 104, 32)\n",
            " Init  |  Yep!  | conv 3x3p1_1  +bnorm  leaky      | (?, 104, 104, 64)\n",
            " Load  |  Yep!  | maxp 2x2p0_2                     | (?, 52, 52, 64)\n",
            " Init  |  Yep!  | conv 3x3p1_1  +bnorm  leaky      | (?, 52, 52, 128)\n",
            " Load  |  Yep!  | maxp 2x2p0_2                     | (?, 26, 26, 128)\n",
            " Init  |  Yep!  | conv 3x3p1_1  +bnorm  leaky      | (?, 26, 26, 256)\n",
            " Load  |  Yep!  | maxp 2x2p0_2                     | (?, 13, 13, 256)\n",
            " Init  |  Yep!  | conv 3x3p1_1  +bnorm  leaky      | (?, 13, 13, 512)\n",
            " Load  |  Yep!  | maxp 2x2p0_1                     | (?, 13, 13, 512)\n",
            " Init  |  Yep!  | conv 3x3p1_1  +bnorm  leaky      | (?, 13, 13, 1024)\n",
            " Init  |  Yep!  | conv 3x3p1_1  +bnorm  leaky      | (?, 13, 13, 1024)\n",
            " Init  |  Yep!  | conv 1x1p0_1    linear           | (?, 13, 13, 30)\n",
            "-------+--------+----------------------------------+---------------\n",
            "GPU mode with 1.0 usage\n",
            "cfg/tiny-yolo-nic-voc.cfg loss hyper-parameters:\n",
            "\tH       = 13\n",
            "\tW       = 13\n",
            "\tbox     = 5\n",
            "\tclasses = 1\n",
            "\tscales  = [1.0, 5.0, 1.0, 1.0]\n",
            "Building cfg/tiny-yolo-nic-voc.cfg loss\n",
            "Building cfg/tiny-yolo-nic-voc.cfg train op\n",
            "2018-09-28 10:05:37.367839: I tensorflow/stream_executor/cuda/cuda_gpu_executor.cc:964] successful NUMA node read from SysFS had negative value (-1), but there must be at least one NUMA node, so returning NUMA node zero\n",
            "2018-09-28 10:05:37.368302: I tensorflow/core/common_runtime/gpu/gpu_device.cc:1411] Found device 0 with properties: \n",
            "name: Tesla K80 major: 3 minor: 7 memoryClockRate(GHz): 0.8235\n",
            "pciBusID: 0000:00:04.0\n",
            "totalMemory: 11.17GiB freeMemory: 11.00GiB\n",
            "2018-09-28 10:05:37.368342: I tensorflow/core/common_runtime/gpu/gpu_device.cc:1490] Adding visible gpu devices: 0\n",
            "2018-09-28 10:05:37.667797: I tensorflow/core/common_runtime/gpu/gpu_device.cc:971] Device interconnect StreamExecutor with strength 1 edge matrix:\n",
            "2018-09-28 10:05:37.667858: I tensorflow/core/common_runtime/gpu/gpu_device.cc:977]      0 \n",
            "2018-09-28 10:05:37.667880: I tensorflow/core/common_runtime/gpu/gpu_device.cc:990] 0:   N \n",
            "2018-09-28 10:05:37.668185: W tensorflow/core/common_runtime/gpu/gpu_bfc_allocator.cc:42] Overriding allow_growth setting because the TF_FORCE_GPU_ALLOW_GROWTH environment variable is set. Original config value was 0.\n",
            "2018-09-28 10:05:37.668244: I tensorflow/core/common_runtime/gpu/gpu_device.cc:1103] Created TensorFlow device (/job:localhost/replica:0/task:0/device:GPU:0 with 11439 MB memory) -> physical GPU (device: 0, name: Tesla K80, pci bus id: 0000:00:04.0, compute capability: 3.7)\n",
            "Loading from /gdrive/My Drive/Colab/ckpt/tiny-yolo-nic-voc-32884\n",
            "Finished in 5.506989240646362s\n",
            "\n",
            "Enter training ...\n",
            "\n",
            "cfg/tiny-yolo-nic-voc.cfg parsing /gdrive/My Drive/Colab/spark_huge_final2/ann\n",
            "Parsing for ['spark'] \n",
            "[>                   ]5%  pic3_136.xml"
          ],
          "name": "stdout"
        }
      ]
    },
    {
      "metadata": {
        "id": "DCLfXKvik99Q",
        "colab_type": "text"
      },
      "cell_type": "markdown",
      "source": [
        "### Create model from checkpoints\n"
      ]
    },
    {
      "metadata": {
        "id": "KPG-0tINlqxW",
        "colab_type": "code",
        "colab": {}
      },
      "cell_type": "code",
      "source": [
        "!ls -l /gdrive/My\\ Drive/Colab/ckpt"
      ],
      "execution_count": 0,
      "outputs": []
    },
    {
      "metadata": {
        "id": "jdoee8QjmCbn",
        "colab_type": "code",
        "colab": {}
      },
      "cell_type": "code",
      "source": [
        "!rm -rf ckpt/checkpoint && cp /gdrive/My\\ Drive/Colab/ckpt/checkpoint ckpt/"
      ],
      "execution_count": 0,
      "outputs": []
    },
    {
      "metadata": {
        "id": "GTeK12ZOoPq7",
        "colab_type": "code",
        "colab": {
          "base_uri": "https://localhost:8080/",
          "height": 119
        },
        "outputId": "d6f74966-d50c-4374-f2ba-c5698393b6d3"
      },
      "cell_type": "code",
      "source": [
        "!ls -l ckpt"
      ],
      "execution_count": 37,
      "outputs": [
        {
          "output_type": "stream",
          "text": [
            "total 247296\n",
            "-rw------- 1 root root      1717 Sep 27 15:19 checkpoint\n",
            "-rw------- 1 root root 189197224 Sep 27 15:16 tiny-yolo-nic-voc-32884.data-00000-of-00001\n",
            "-rw------- 1 root root      3568 Sep 27 15:16 tiny-yolo-nic-voc-32884.index\n",
            "-rw------- 1 root root  63594802 Sep 27 15:16 tiny-yolo-nic-voc-32884.meta\n",
            "-rw------- 1 root root    418751 Sep 27 15:16 tiny-yolo-nic-voc-32884.profile\n"
          ],
          "name": "stdout"
        }
      ]
    },
    {
      "metadata": {
        "id": "Djtv5SOdmskJ",
        "colab_type": "code",
        "colab": {}
      },
      "cell_type": "code",
      "source": [
        "!echo \"model_checkpoint_path: \\\"tiny-yolo-nic-voc-32884\\\"\\nall_model_checkpoint_paths: \\\"tiny-yolo-nic-voc-32884\\\"\" > ckpt/checkpoint"
      ],
      "execution_count": 0,
      "outputs": []
    },
    {
      "metadata": {
        "id": "jKIeBzVtmNjJ",
        "colab_type": "code",
        "colab": {
          "base_uri": "https://localhost:8080/",
          "height": 340
        },
        "outputId": "5e550679-fd47-46f9-9ba2-4031f30fecff"
      },
      "cell_type": "code",
      "source": [
        "!ls -l"
      ],
      "execution_count": 21,
      "outputs": [
        {
          "output_type": "stream",
          "text": [
            "total 14948\n",
            "drwxr-xr-x 2 root root     4096 Sep 27 15:07 bin\n",
            "drwxr-xr-x 4 root root     4096 Sep 27 15:07 build\n",
            "drwxr-xr-x 4 root root     4096 Sep 27 15:06 cfg\n",
            "drwxr-xr-x 2 root root     4096 Sep 27 15:16 cktp\n",
            "-rw-r--r-- 1 root root      293 Sep 27 15:06 create_own_dataset.py\n",
            "drwxr-xr-x 7 root root     4096 Sep 27 15:07 darkflow\n",
            "drwxr-xr-x 2 root root     4096 Sep 27 15:07 darkflow.egg-info\n",
            "-rw-r--r-- 1 root root 14900940 Sep 27 15:06 demo.gif\n",
            "-rwxr-xr-x 1 root root       94 Sep 27 15:06 flow\n",
            "drwxr-xr-x 2 root root     4096 Sep 27 15:06 img_diff\n",
            "-rw-r--r-- 1 root root        6 Sep 27 15:06 labels.txt\n",
            "-rw-r--r-- 1 root root    35141 Sep 27 15:06 LICENSE\n",
            "-rw-r--r-- 1 root root   283380 Sep 27 15:06 preview.png\n",
            "-rw-r--r-- 1 root root    11539 Sep 27 15:06 README.md\n",
            "drwxr-xr-x 3 root root     4096 Sep 27 15:11 sample_img\n",
            "-rw-r--r-- 1 root root     2575 Sep 27 15:06 setup.py\n",
            "drwxr-xr-x 3 root root     4096 Sep 27 15:06 test\n",
            "-rw-r--r-- 1 root root    12526 Sep 27 15:08 wget-log\n"
          ],
          "name": "stdout"
        }
      ]
    },
    {
      "metadata": {
        "id": "IsrHLqjzlCBS",
        "colab_type": "code",
        "colab": {
          "base_uri": "https://localhost:8080/",
          "height": 819
        },
        "outputId": "de844616-be20-4c12-ba33-0b0ac05f8d40"
      },
      "cell_type": "code",
      "source": [
        "!flow --model cfg/tiny-yolo-nic-voc.cfg --load -32884 --savepb --gpu -1.0"
      ],
      "execution_count": 43,
      "outputs": [
        {
          "output_type": "stream",
          "text": [
            "\n",
            "Parsing cfg/tiny-yolo-nic-voc.cfg\n",
            "Loading None ...\n",
            "Finished in 0.00010633468627929688s\n",
            "\n",
            "Building net ...\n",
            "Source | Train? | Layer description                | Output size\n",
            "-------+--------+----------------------------------+---------------\n",
            "       |        | input                            | (?, 416, 416, 3)\n",
            " Init  |  Yep!  | conv 3x3p1_1  +bnorm  leaky      | (?, 416, 416, 16)\n",
            " Load  |  Yep!  | maxp 2x2p0_2                     | (?, 208, 208, 16)\n",
            " Init  |  Yep!  | conv 3x3p1_1  +bnorm  leaky      | (?, 208, 208, 32)\n",
            " Load  |  Yep!  | maxp 2x2p0_2                     | (?, 104, 104, 32)\n",
            " Init  |  Yep!  | conv 3x3p1_1  +bnorm  leaky      | (?, 104, 104, 64)\n",
            " Load  |  Yep!  | maxp 2x2p0_2                     | (?, 52, 52, 64)\n",
            " Init  |  Yep!  | conv 3x3p1_1  +bnorm  leaky      | (?, 52, 52, 128)\n",
            " Load  |  Yep!  | maxp 2x2p0_2                     | (?, 26, 26, 128)\n",
            " Init  |  Yep!  | conv 3x3p1_1  +bnorm  leaky      | (?, 26, 26, 256)\n",
            " Load  |  Yep!  | maxp 2x2p0_2                     | (?, 13, 13, 256)\n",
            " Init  |  Yep!  | conv 3x3p1_1  +bnorm  leaky      | (?, 13, 13, 512)\n",
            " Load  |  Yep!  | maxp 2x2p0_1                     | (?, 13, 13, 512)\n",
            " Init  |  Yep!  | conv 3x3p1_1  +bnorm  leaky      | (?, 13, 13, 1024)\n",
            " Init  |  Yep!  | conv 3x3p1_1  +bnorm  leaky      | (?, 13, 13, 1024)\n",
            " Init  |  Yep!  | conv 1x1p0_1    linear           | (?, 13, 13, 30)\n",
            "-------+--------+----------------------------------+---------------\n",
            "Running entirely on CPU\n",
            "2018-09-27 15:51:42.047691: I tensorflow/core/common_runtime/gpu/gpu_device.cc:971] Device interconnect StreamExecutor with strength 1 edge matrix:\n",
            "2018-09-27 15:51:42.047755: I tensorflow/core/common_runtime/gpu/gpu_device.cc:977]      \n",
            "Loading from ./ckpt/tiny-yolo-nic-voc-32884\n",
            "Finished in 2.280217170715332s\n",
            "\n",
            "Rebuild a constant version ...\n",
            "2018-09-27 15:51:43.114278: I tensorflow/core/common_runtime/gpu/gpu_device.cc:971] Device interconnect StreamExecutor with strength 1 edge matrix:\n",
            "2018-09-27 15:51:43.114334: I tensorflow/core/common_runtime/gpu/gpu_device.cc:977]      \n",
            "2018-09-27 15:51:43.196994: I tensorflow/stream_executor/cuda/cuda_gpu_executor.cc:964] successful NUMA node read from SysFS had negative value (-1), but there must be at least one NUMA node, so returning NUMA node zero\n",
            "2018-09-27 15:51:43.197472: I tensorflow/core/common_runtime/gpu/gpu_device.cc:1411] Found device 0 with properties: \n",
            "name: Tesla K80 major: 3 minor: 7 memoryClockRate(GHz): 0.8235\n",
            "pciBusID: 0000:00:04.0\n",
            "totalMemory: 11.17GiB freeMemory: 11.10GiB\n",
            "2018-09-27 15:51:43.197511: I tensorflow/core/common_runtime/gpu/gpu_device.cc:1490] Adding visible gpu devices: 0\n",
            "2018-09-27 15:51:43.511266: I tensorflow/core/common_runtime/gpu/gpu_device.cc:971] Device interconnect StreamExecutor with strength 1 edge matrix:\n",
            "2018-09-27 15:51:43.511322: I tensorflow/core/common_runtime/gpu/gpu_device.cc:977]      0 \n",
            "2018-09-27 15:51:43.511352: I tensorflow/core/common_runtime/gpu/gpu_device.cc:990] 0:   N \n",
            "2018-09-27 15:51:43.511628: W tensorflow/core/common_runtime/gpu/gpu_bfc_allocator.cc:42] Overriding allow_growth setting because the TF_FORCE_GPU_ALLOW_GROWTH environment variable is set. Original config value was 0.\n",
            "2018-09-27 15:51:43.511709: I tensorflow/core/common_runtime/gpu/gpu_device.cc:1103] Created TensorFlow device (/job:localhost/replica:0/task:0/device:GPU:0 with 10759 MB memory) -> physical GPU (device: 0, name: Tesla K80, pci bus id: 0000:00:04.0, compute capability: 3.7)\n",
            "Done\n"
          ],
          "name": "stdout"
        }
      ]
    },
    {
      "metadata": {
        "id": "IBoLqafh4a6Q",
        "colab_type": "code",
        "colab": {
          "base_uri": "https://localhost:8080/",
          "height": 68
        },
        "outputId": "dbfe4f12-3b46-4c38-e625-0e8e1d33a0b0"
      },
      "cell_type": "code",
      "source": [
        "!ls -l built_graph"
      ],
      "execution_count": 44,
      "outputs": [
        {
          "output_type": "stream",
          "text": [
            "total 61620\n",
            "-rw-r--r-- 1 root root      803 Sep 27 15:51 tiny-yolo-nic-voc.meta\n",
            "-rw-r--r-- 1 root root 63091881 Sep 27 15:51 tiny-yolo-nic-voc.pb\n"
          ],
          "name": "stdout"
        }
      ]
    },
    {
      "metadata": {
        "id": "DtVYch494mzq",
        "colab_type": "code",
        "colab": {}
      },
      "cell_type": "code",
      "source": [
        "!cp -r built_graph \"/gdrive/My Drive/Colab/\""
      ],
      "execution_count": 0,
      "outputs": []
    },
    {
      "metadata": {
        "id": "iotTN3JlxQO3",
        "colab_type": "text"
      },
      "cell_type": "markdown",
      "source": [
        "#### recognize images\n"
      ]
    },
    {
      "metadata": {
        "id": "pSZJajJR5Ifl",
        "colab_type": "code",
        "colab": {
          "base_uri": "https://localhost:8080/",
          "height": 360
        },
        "outputId": "40d0c78e-726e-4775-d0e6-61b12260fc44"
      },
      "cell_type": "code",
      "source": [
        "!flow --imgdir \"/gdrive/My Drive/Colab/spark_test\" --metaLoad ./built_graph/tiny-yolo-nic-voc.meta --pbLoad ./built_graph/tiny-yolo-nic-voc.pb --gpu 1.0 "
      ],
      "execution_count": 47,
      "outputs": [
        {
          "output_type": "stream",
          "text": [
            "\n",
            "\n",
            "Loading from .pb and .meta\n",
            "GPU mode with 1.0 usage\n",
            "2018-09-27 15:57:55.972835: I tensorflow/stream_executor/cuda/cuda_gpu_executor.cc:964] successful NUMA node read from SysFS had negative value (-1), but there must be at least one NUMA node, so returning NUMA node zero\n",
            "2018-09-27 15:57:55.973290: I tensorflow/core/common_runtime/gpu/gpu_device.cc:1411] Found device 0 with properties: \n",
            "name: Tesla K80 major: 3 minor: 7 memoryClockRate(GHz): 0.8235\n",
            "pciBusID: 0000:00:04.0\n",
            "totalMemory: 11.17GiB freeMemory: 11.10GiB\n",
            "2018-09-27 15:57:55.973329: I tensorflow/core/common_runtime/gpu/gpu_device.cc:1490] Adding visible gpu devices: 0\n",
            "2018-09-27 15:57:56.267271: I tensorflow/core/common_runtime/gpu/gpu_device.cc:971] Device interconnect StreamExecutor with strength 1 edge matrix:\n",
            "2018-09-27 15:57:56.267372: I tensorflow/core/common_runtime/gpu/gpu_device.cc:977]      0 \n",
            "2018-09-27 15:57:56.267394: I tensorflow/core/common_runtime/gpu/gpu_device.cc:990] 0:   N \n",
            "2018-09-27 15:57:56.267654: W tensorflow/core/common_runtime/gpu/gpu_bfc_allocator.cc:42] Overriding allow_growth setting because the TF_FORCE_GPU_ALLOW_GROWTH environment variable is set. Original config value was 0.\n",
            "2018-09-27 15:57:56.267721: I tensorflow/core/common_runtime/gpu/gpu_device.cc:1103] Created TensorFlow device (/job:localhost/replica:0/task:0/device:GPU:0 with 11439 MB memory) -> physical GPU (device: 0, name: Tesla K80, pci bus id: 0000:00:04.0, compute capability: 3.7)\n",
            "Forwarding 12 inputs ...\n",
            "Total time = 1.9516823291778564s / 12 inps = 6.148541604644739 ips\n",
            "Post processing 12 inputs ...\n",
            "Total time = 0.5254518985748291s / 12 inps = 22.83748528180661 ips\n"
          ],
          "name": "stdout"
        }
      ]
    },
    {
      "metadata": {
        "id": "2TsIZFqLxVTY",
        "colab_type": "text"
      },
      "cell_type": "markdown",
      "source": [
        "#### recognize video"
      ]
    },
    {
      "metadata": {
        "id": "cK2bfJPd6Ccy",
        "colab_type": "code",
        "colab": {
          "base_uri": "https://localhost:8080/",
          "height": 377
        },
        "outputId": "63f72c52-2ed4-4654-c546-0f63dcf06612"
      },
      "cell_type": "code",
      "source": [
        "!flow --demo \"/gdrive/My Drive/Colab/spark_test/sparkwgarazu2.mp4\" --metaLoad ./built_graph/tiny-yolo-nic-voc.meta --pbLoad ./built_graph/tiny-yolo-nic-voc.pb --gpu 1.0 --saveVideo"
      ],
      "execution_count": 67,
      "outputs": [
        {
          "output_type": "stream",
          "text": [
            "\n",
            "\n",
            "Loading from .pb and .meta\n",
            "GPU mode with 1.0 usage\n",
            "2018-09-27 19:19:29.408946: I tensorflow/stream_executor/cuda/cuda_gpu_executor.cc:964] successful NUMA node read from SysFS had negative value (-1), but there must be at least one NUMA node, so returning NUMA node zero\n",
            "2018-09-27 19:19:29.409644: I tensorflow/core/common_runtime/gpu/gpu_device.cc:1411] Found device 0 with properties: \n",
            "name: Tesla K80 major: 3 minor: 7 memoryClockRate(GHz): 0.8235\n",
            "pciBusID: 0000:00:04.0\n",
            "totalMemory: 11.17GiB freeMemory: 11.10GiB\n",
            "2018-09-27 19:19:29.409709: I tensorflow/core/common_runtime/gpu/gpu_device.cc:1490] Adding visible gpu devices: 0\n",
            "2018-09-27 19:19:29.716753: I tensorflow/core/common_runtime/gpu/gpu_device.cc:971] Device interconnect StreamExecutor with strength 1 edge matrix:\n",
            "2018-09-27 19:19:29.716849: I tensorflow/core/common_runtime/gpu/gpu_device.cc:977]      0 \n",
            "2018-09-27 19:19:29.716875: I tensorflow/core/common_runtime/gpu/gpu_device.cc:990] 0:   N \n",
            "2018-09-27 19:19:29.717284: W tensorflow/core/common_runtime/gpu/gpu_bfc_allocator.cc:42] Overriding allow_growth setting because the TF_FORCE_GPU_ALLOW_GROWTH environment variable is set. Original config value was 0.\n",
            "2018-09-27 19:19:29.717387: I tensorflow/core/common_runtime/gpu/gpu_device.cc:1103] Created TensorFlow device (/job:localhost/replica:0/task:0/device:GPU:0 with 11439 MB memory) -> physical GPU (device: 0, name: Tesla K80, pci bus id: 0000:00:04.0, compute capability: 3.7)\n",
            "Press [ESC] to quit demo\n",
            "37.053 FPS\n",
            "End of Video\n",
            "\n",
            "Demo stopped, exit.\n"
          ],
          "name": "stdout"
        }
      ]
    },
    {
      "metadata": {
        "id": "97sHIag45QHE",
        "colab_type": "code",
        "colab": {}
      },
      "cell_type": "code",
      "source": [
        "# Install the PyDrive wrapper & import libraries.\n",
        "# This only needs to be done once in a notebook.\n",
        "!pip install -U -q PyDrive\n",
        "from pydrive.auth import GoogleAuth\n",
        "from pydrive.drive import GoogleDrive\n",
        "from google.colab import auth\n",
        "from oauth2client.client import GoogleCredentials\n",
        "\n",
        "# Authenticate and create the PyDrive client.\n",
        "# This only needs to be done once in a notebook.\n",
        "auth.authenticate_user()\n",
        "gauth = GoogleAuth()\n",
        "gauth.credentials = GoogleCredentials.get_application_default()\n",
        "drive = GoogleDrive(gauth)"
      ],
      "execution_count": 0,
      "outputs": []
    },
    {
      "metadata": {
        "id": "YmH5rOTZebik",
        "colab_type": "code",
        "colab": {
          "base_uri": "https://localhost:8080/",
          "height": 391
        },
        "outputId": "6092e461-16c0-41cd-ce04-85eeee21a8e1"
      },
      "cell_type": "code",
      "source": [
        "!ls -l"
      ],
      "execution_count": 69,
      "outputs": [
        {
          "output_type": "stream",
          "text": [
            "total 32608\n",
            "drwxr-xr-x 2 root root     4096 Sep 27 15:07 bin\n",
            "drwxr-xr-x 4 root root     4096 Sep 27 15:07 build\n",
            "drwxr-xr-x 2 root root     4096 Sep 27 15:51 built_graph\n",
            "drwxr-xr-x 4 root root     4096 Sep 27 15:06 cfg\n",
            "drwxr-xr-x 2 root root     4096 Sep 27 15:19 ckpt\n",
            "drwxr-xr-x 2 root root     4096 Sep 27 15:16 cktp\n",
            "-rw-r--r-- 1 root root      293 Sep 27 15:06 create_own_dataset.py\n",
            "drwxr-xr-x 7 root root     4096 Sep 27 15:07 darkflow\n",
            "drwxr-xr-x 2 root root     4096 Sep 27 15:07 darkflow.egg-info\n",
            "-rw-r--r-- 1 root root 14900940 Sep 27 15:06 demo.gif\n",
            "-rwxr-xr-x 1 root root       94 Sep 27 15:06 flow\n",
            "drwxr-xr-x 2 root root     4096 Sep 27 15:06 img_diff\n",
            "-rw-r--r-- 1 root root        6 Sep 27 15:06 labels.txt\n",
            "-rw-r--r-- 1 root root    35141 Sep 27 15:06 LICENSE\n",
            "-rw-r--r-- 1 root root   283380 Sep 27 15:06 preview.png\n",
            "-rw-r--r-- 1 root root    11539 Sep 27 15:06 README.md\n",
            "drwxr-xr-x 3 root root     4096 Sep 27 15:11 sample_img\n",
            "-rw-r--r-- 1 root root     2575 Sep 27 15:06 setup.py\n",
            "drwxr-xr-x 3 root root     4096 Sep 27 15:06 test\n",
            "-rw-r--r-- 1 root root 18074442 Sep 27 19:20 video.avi\n",
            "-rw-r--r-- 1 root root    12526 Sep 27 15:08 wget-log\n"
          ],
          "name": "stdout"
        }
      ]
    },
    {
      "metadata": {
        "id": "YNkOR5jG0Een",
        "colab_type": "code",
        "colab": {
          "base_uri": "https://localhost:8080/",
          "height": 34
        },
        "outputId": "a11d19bd-2da2-4373-ed14-d654844664d4"
      },
      "cell_type": "code",
      "source": [
        "# Create & upload a text file.\n",
        "uploaded = drive.CreateFile({'title': 'video.avi'})\n",
        "uploaded.SetContentFile('video.avi')\n",
        "uploaded.Upload()\n",
        "print('Uploaded file with ID {}'.format(uploaded.get('id')))"
      ],
      "execution_count": 72,
      "outputs": [
        {
          "output_type": "stream",
          "text": [
            "Uploaded file with ID 14JyZVMCMHKShN_1xOLw5pY1qVCH5GsQP\n"
          ],
          "name": "stdout"
        }
      ]
    }
  ]
}