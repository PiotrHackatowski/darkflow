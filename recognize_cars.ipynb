{
  "nbformat": 4,
  "nbformat_minor": 0,
  "metadata": {
    "colab": {
      "name": "recognize_cars.ipynb",
      "version": "0.3.2",
      "provenance": [],
      "collapsed_sections": [
        "2DpStAEORuCr"
      ],
      "include_colab_link": true
    },
    "kernelspec": {
      "name": "python3",
      "display_name": "Python 3"
    },
    "accelerator": "GPU"
  },
  "cells": [
    {
      "cell_type": "markdown",
      "metadata": {
        "id": "view-in-github",
        "colab_type": "text"
      },
      "source": [
        "[View in Colaboratory](https://colab.research.google.com/github/PiotrHackatowski/darkflow/blob/master/recognize_cars.ipynb)"
      ]
    },
    {
      "metadata": {
        "id": "HvZQmgRwdscG",
        "colab_type": "code",
        "colab": {
          "base_uri": "https://localhost:8080/",
          "height": 323
        },
        "outputId": "4c4e145f-6c12-4089-af3e-e49216efcca4"
      },
      "cell_type": "code",
      "source": [
        "!ls -l"
      ],
      "execution_count": 7,
      "outputs": [
        {
          "output_type": "stream",
          "text": [
            "total 14944\n",
            "drwxr-xr-x 2 root root     4096 Sep 27 15:07 bin\n",
            "drwxr-xr-x 4 root root     4096 Sep 27 15:07 build\n",
            "drwxr-xr-x 4 root root     4096 Sep 27 15:06 cfg\n",
            "-rw-r--r-- 1 root root      293 Sep 27 15:06 create_own_dataset.py\n",
            "drwxr-xr-x 7 root root     4096 Sep 27 15:07 darkflow\n",
            "drwxr-xr-x 2 root root     4096 Sep 27 15:07 darkflow.egg-info\n",
            "-rw-r--r-- 1 root root 14900940 Sep 27 15:06 demo.gif\n",
            "-rwxr-xr-x 1 root root       94 Sep 27 15:06 flow\n",
            "drwxr-xr-x 2 root root     4096 Sep 27 15:06 img_diff\n",
            "-rw-r--r-- 1 root root        6 Sep 27 15:06 labels.txt\n",
            "-rw-r--r-- 1 root root    35141 Sep 27 15:06 LICENSE\n",
            "-rw-r--r-- 1 root root   283380 Sep 27 15:06 preview.png\n",
            "-rw-r--r-- 1 root root    11539 Sep 27 15:06 README.md\n",
            "drwxr-xr-x 3 root root     4096 Sep 27 15:11 sample_img\n",
            "-rw-r--r-- 1 root root     2575 Sep 27 15:06 setup.py\n",
            "drwxr-xr-x 3 root root     4096 Sep 27 15:06 test\n",
            "-rw-r--r-- 1 root root    12526 Sep 27 15:08 wget-log\n"
          ],
          "name": "stdout"
        }
      ]
    },
    {
      "metadata": {
        "id": "jMCPXeVHlvb_",
        "colab_type": "code",
        "colab": {
          "base_uri": "https://localhost:8080/",
          "height": 122
        },
        "outputId": "921fec57-bc2e-4310-efcd-6a57a2e79934"
      },
      "cell_type": "code",
      "source": [
        "from google.colab import drive\n",
        "drive.mount('/gdrive')"
      ],
      "execution_count": 2,
      "outputs": [
        {
          "output_type": "stream",
          "text": [
            "Go to this URL in a browser: https://accounts.google.com/o/oauth2/auth?client_id=947318989803-6bn6qk8qdgf4n4g3pfee6491hc0brc4i.apps.googleusercontent.com&redirect_uri=urn%3Aietf%3Awg%3Aoauth%3A2.0%3Aoob&scope=email%20https%3A%2F%2Fwww.googleapis.com%2Fauth%2Fdocs.test%20https%3A%2F%2Fwww.googleapis.com%2Fauth%2Fdrive%20https%3A%2F%2Fwww.googleapis.com%2Fauth%2Fdrive.photos.readonly%20https%3A%2F%2Fwww.googleapis.com%2Fauth%2Fpeopleapi.readonly&response_type=code\n",
            "\n",
            "Enter your authorization code:\n",
            "··········\n",
            "Mounted at /gdrive\n"
          ],
          "name": "stdout"
        }
      ]
    },
    {
      "metadata": {
        "id": "vg01TwxDnXrJ",
        "colab_type": "code",
        "colab": {
          "base_uri": "https://localhost:8080/",
          "height": 170
        },
        "outputId": "6b3e5f22-c1fb-4174-f722-4cc3f11a03e1"
      },
      "cell_type": "code",
      "source": [
        "%cd \"/content\"\n",
        "#%cd \"/gdrive/My Drive/Colab\"\n",
        "!git clone https://github.com/PiotrHackatowski/darkflow.git\n",
        "%cd \"/content/darkflow\""
      ],
      "execution_count": 3,
      "outputs": [
        {
          "output_type": "stream",
          "text": [
            "/content\n",
            "Cloning into 'darkflow'...\n",
            "remote: Enumerating objects: 6, done.\u001b[K\n",
            "remote: Counting objects: 100% (6/6), done.\u001b[K\n",
            "remote: Compressing objects: 100% (4/4), done.\u001b[K\n",
            "remote: Total 2801 (delta 1), reused 0 (delta 0), pack-reused 2795\u001b[K\n",
            "Receiving objects: 100% (2801/2801), 18.76 MiB | 7.88 MiB/s, done.\n",
            "Resolving deltas: 100% (1832/1832), done.\n",
            "/content/darkflow\n"
          ],
          "name": "stdout"
        }
      ]
    },
    {
      "metadata": {
        "id": "dvyCh6Msnvn0",
        "colab_type": "code",
        "colab": {
          "base_uri": "https://localhost:8080/",
          "height": 170
        },
        "outputId": "5de542ae-f7fc-4d78-ccbf-2f9ca61d631c"
      },
      "cell_type": "code",
      "source": [
        "!pip install Cython\n",
        "!pip install -e ."
      ],
      "execution_count": 4,
      "outputs": [
        {
          "output_type": "stream",
          "text": [
            "Collecting Cython\n",
            "\u001b[?25l  Downloading https://files.pythonhosted.org/packages/19/8e/32b280abb0947a96cdbb8329fb2014851a21fc1d099009f946ea8a8202c3/Cython-0.28.5-cp36-cp36m-manylinux1_x86_64.whl (3.4MB)\n",
            "\u001b[K    100% |████████████████████████████████| 3.4MB 972kB/s \n",
            "\u001b[?25hInstalling collected packages: Cython\n",
            "Successfully installed Cython-0.28.5\n",
            "Obtaining file:///content/darkflow\n",
            "Installing collected packages: darkflow\n",
            "  Running setup.py develop for darkflow\n",
            "Successfully installed darkflow\n"
          ],
          "name": "stdout"
        }
      ]
    },
    {
      "metadata": {
        "id": "pyOTtD3Wn4db",
        "colab_type": "code",
        "colab": {
          "base_uri": "https://localhost:8080/",
          "height": 51
        },
        "outputId": "b10edfb7-fb1e-47d3-d219-70d454aa6189"
      },
      "cell_type": "code",
      "source": [
        "!wget https://s3.eu-west-2.amazonaws.com/januszdev-2018/tiny-yolo-voc.weights -P bin/"
      ],
      "execution_count": 5,
      "outputs": [
        {
          "output_type": "stream",
          "text": [
            "\n",
            "Redirecting output to ‘wget-log’.\n"
          ],
          "name": "stdout"
        }
      ]
    },
    {
      "metadata": {
        "id": "2DpStAEORuCr",
        "colab_type": "text"
      },
      "cell_type": "markdown",
      "source": [
        "### Detect cars"
      ]
    },
    {
      "metadata": {
        "id": "YYZnWFTYqDHj",
        "colab_type": "code",
        "colab": {}
      },
      "cell_type": "code",
      "source": [
        "#!rm -rf \"/gdrive/My Drive/Colab/cars_input/out\"\n",
        "!./flow --imgdir \"/gdrive/My Drive/Colab/spark_huge\" --model cfg/tiny-yolo-voc.cfg --load bin/tiny-yolo-voc.weights --gpu 1.0 --json\n",
        "#!./flow --demo \"/gdrive/My Drive/Colab/video_input/Audi A6 C6 Commercial 720.mp4\" --saveVideo --model cfg/tiny-yolo-voc.cfg --load bin/tiny-yolo-voc.weights --gpu 1.0"
      ],
      "execution_count": 0,
      "outputs": []
    },
    {
      "metadata": {
        "id": "WZtA10evgcJ8",
        "colab_type": "code",
        "colab": {}
      },
      "cell_type": "code",
      "source": [
        "!ls -l \"/gdrive/My Drive/\""
      ],
      "execution_count": 0,
      "outputs": []
    },
    {
      "metadata": {
        "id": "OfUHWF5jRx7D",
        "colab_type": "text"
      },
      "cell_type": "markdown",
      "source": [
        "### Train new data"
      ]
    },
    {
      "metadata": {
        "id": "DfoesLt5TMA7",
        "colab_type": "code",
        "colab": {
          "base_uri": "https://localhost:8080/",
          "height": 425
        },
        "outputId": "95ddb3f5-8e08-4034-923d-daf2fef6ac31"
      },
      "cell_type": "code",
      "source": [
        "!ls -l \"/gdrive/My Drive/Colab/\""
      ],
      "execution_count": 8,
      "outputs": [
        {
          "output_type": "stream",
          "text": [
            "total 89\n",
            "drwx------ 2 root root 4096 Sep 10 20:51 audia6c6\n",
            "drwx------ 2 root root 4096 Sep 11 18:09 Audia6c62\n",
            "drwx------ 2 root root 4096 Sep 11 18:48 audia6c6_3\n",
            "drwx------ 2 root root 4096 Sep 12 22:29 audia6c6_3_final\n",
            "drwx------ 2 root root 4096 Sep 12 17:12 audia6c6_3_final1\n",
            "drwx------ 2 root root 4096 Sep 12 17:13 audia6c6_3_final (1)\n",
            "drwx------ 2 root root 4096 Sep 15 11:07 audia6c6_bw\n",
            "drwx------ 2 root root 4096 Sep 13 07:14 audia6c6_final4\n",
            "drwx------ 2 root root 4096 Sep 15 18:32 audia6c6huge\n",
            "drwx------ 2 root root 4096 Sep 12 22:41 audia6c6test\n",
            "drwx------ 2 root root 4096 Sep 12 22:40 audia6c6test (1)\n",
            "drwx------ 2 root root 4096 Sep 12 22:25 built_graph\n",
            "drwx------ 2 root root 4096 Sep  9 18:52 cars_input\n",
            "drwx------ 2 root root 4096 Sep 25 18:38 ckpt\n",
            "drwx------ 2 root root 4096 Sep  9 18:35 darkflow\n",
            "-rw------- 1 root root   32 Sep  9 18:33 foo.txt\n",
            "drwx------ 2 root root 4096 Sep 16 19:19 spark_huge\n",
            "drwx------ 2 root root 4096 Sep 16 19:49 spark_huge_final\n",
            "drwx------ 2 root root 4096 Sep 16 23:20 spark_huge_final2\n",
            "drwx------ 2 root root 4096 Sep 17 19:51 spark_huge_final_alexnet\n",
            "drwx------ 2 root root 4096 Sep 17 19:41 spark_huge_final_alexnet2\n",
            "drwx------ 2 root root 4096 Sep 19 20:43 spark_test\n",
            "drwx------ 2 root root 4096 Sep  9 20:55 video_input\n"
          ],
          "name": "stdout"
        }
      ]
    },
    {
      "metadata": {
        "id": "RUaSTSGhwbzy",
        "colab_type": "code",
        "colab": {}
      },
      "cell_type": "code",
      "source": [
        "!git pull"
      ],
      "execution_count": 0,
      "outputs": []
    },
    {
      "metadata": {
        "id": "tJPWyhovZ1c-",
        "colab_type": "code",
        "colab": {}
      },
      "cell_type": "code",
      "source": [
        "!ls -l "
      ],
      "execution_count": 0,
      "outputs": []
    },
    {
      "metadata": {
        "id": "5T2Kc4Bl15i2",
        "colab_type": "code",
        "colab": {}
      },
      "cell_type": "code",
      "source": [
        "!flow --model cfg/tiny-yolo-nic-voc.cfg --load -32884 --savepb --gpu -1.0 --backup /gdrive/My\\ Drive/Colab/ckpt --batch -32"
      ],
      "execution_count": 0,
      "outputs": []
    },
    {
      "metadata": {
        "id": "pGA81pI82-kW",
        "colab_type": "code",
        "colab": {}
      },
      "cell_type": "code",
      "source": [
        "!ls -l /gdrive/My\\ Drive/Colab/spark_huge_final/images"
      ],
      "execution_count": 0,
      "outputs": []
    },
    {
      "metadata": {
        "id": "KRDClQzQ4Va_",
        "colab_type": "code",
        "colab": {
          "base_uri": "https://localhost:8080/",
          "height": 949
        },
        "outputId": "741d4c51-3239-4ba2-b140-f9d17e11a478"
      },
      "cell_type": "code",
      "source": [
        "!flow --model cfg/tiny-yolo-nic-voc.cfg --load bin/tiny-yolo-voc.weights --train --backup \"/gdrive/My Drive/Colab/ckpt\" --annotation \"/gdrive/My Drive/Colab/spark_huge_final2/ann\" --dataset \"/gdrive/My Drive/Colab/spark_huge_final2/images\" --epoch 2000 --load 32884 --gpu -1.0  --batch 32 --save 10000"
      ],
      "execution_count": 0,
      "outputs": [
        {
          "output_type": "stream",
          "text": [
            "\n",
            "Parsing cfg/tiny-yolo-nic-voc.cfg\n",
            "Loading None ...\n",
            "Finished in 0.00016570091247558594s\n",
            "\n",
            "Building net ...\n",
            "Source | Train? | Layer description                | Output size\n",
            "-------+--------+----------------------------------+---------------\n",
            "       |        | input                            | (?, 416, 416, 3)\n",
            " Init  |  Yep!  | conv 3x3p1_1  +bnorm  leaky      | (?, 416, 416, 16)\n",
            " Load  |  Yep!  | maxp 2x2p0_2                     | (?, 208, 208, 16)\n",
            " Init  |  Yep!  | conv 3x3p1_1  +bnorm  leaky      | (?, 208, 208, 32)\n",
            " Load  |  Yep!  | maxp 2x2p0_2                     | (?, 104, 104, 32)\n",
            " Init  |  Yep!  | conv 3x3p1_1  +bnorm  leaky      | (?, 104, 104, 64)\n",
            " Load  |  Yep!  | maxp 2x2p0_2                     | (?, 52, 52, 64)\n",
            " Init  |  Yep!  | conv 3x3p1_1  +bnorm  leaky      | (?, 52, 52, 128)\n",
            " Load  |  Yep!  | maxp 2x2p0_2                     | (?, 26, 26, 128)\n",
            " Init  |  Yep!  | conv 3x3p1_1  +bnorm  leaky      | (?, 26, 26, 256)\n",
            " Load  |  Yep!  | maxp 2x2p0_2                     | (?, 13, 13, 256)\n",
            " Init  |  Yep!  | conv 3x3p1_1  +bnorm  leaky      | (?, 13, 13, 512)\n",
            " Load  |  Yep!  | maxp 2x2p0_1                     | (?, 13, 13, 512)\n",
            " Init  |  Yep!  | conv 3x3p1_1  +bnorm  leaky      | (?, 13, 13, 1024)\n",
            " Init  |  Yep!  | conv 3x3p1_1  +bnorm  leaky      | (?, 13, 13, 1024)\n",
            " Init  |  Yep!  | conv 1x1p0_1    linear           | (?, 13, 13, 30)\n",
            "-------+--------+----------------------------------+---------------\n",
            "Running entirely on CPU\n",
            "cfg/tiny-yolo-nic-voc.cfg loss hyper-parameters:\n",
            "\tH       = 13\n",
            "\tW       = 13\n",
            "\tbox     = 5\n",
            "\tclasses = 1\n",
            "\tscales  = [1.0, 5.0, 1.0, 1.0]\n",
            "Building cfg/tiny-yolo-nic-voc.cfg loss\n",
            "Building cfg/tiny-yolo-nic-voc.cfg train op\n",
            "2018-09-27 17:46:11.272052: I tensorflow/core/common_runtime/gpu/gpu_device.cc:971] Device interconnect StreamExecutor with strength 1 edge matrix:\n",
            "2018-09-27 17:46:11.272100: I tensorflow/core/common_runtime/gpu/gpu_device.cc:977]      \n",
            "Loading from /gdrive/My Drive/Colab/ckpt/tiny-yolo-nic-voc-32884\n",
            "Finished in 5.120390892028809s\n",
            "\n",
            "Enter training ...\n",
            "\n",
            "cfg/tiny-yolo-nic-voc.cfg parsing /gdrive/My Drive/Colab/spark_huge_final2/ann\n",
            "Parsing for ['spark'] \n",
            "[====================>]100%  pic6_205.xml\n",
            "Statistics:\n",
            "spark: 1011\n",
            "Dataset size: 1011\n",
            "Dataset of 1011 instance(s)\n",
            "Training statistics: \n",
            "\tLearning rate : 1e-05\n",
            "\tBatch size    : 32\n",
            "\tEpoch number  : 2000\n",
            "\tBackup every  : 10000\n"
          ],
          "name": "stdout"
        }
      ]
    },
    {
      "metadata": {
        "id": "DCLfXKvik99Q",
        "colab_type": "text"
      },
      "cell_type": "markdown",
      "source": [
        "### Create model from checkpoints\n"
      ]
    },
    {
      "metadata": {
        "id": "KPG-0tINlqxW",
        "colab_type": "code",
        "colab": {}
      },
      "cell_type": "code",
      "source": [
        "!ls -l /gdrive/My\\ Drive/Colab/ckpt"
      ],
      "execution_count": 0,
      "outputs": []
    },
    {
      "metadata": {
        "id": "jdoee8QjmCbn",
        "colab_type": "code",
        "colab": {}
      },
      "cell_type": "code",
      "source": [
        "!rm -rf ckpt/checkpoint && cp /gdrive/My\\ Drive/Colab/ckpt/checkpoint ckpt/"
      ],
      "execution_count": 0,
      "outputs": []
    },
    {
      "metadata": {
        "id": "GTeK12ZOoPq7",
        "colab_type": "code",
        "colab": {
          "base_uri": "https://localhost:8080/",
          "height": 119
        },
        "outputId": "d6f74966-d50c-4374-f2ba-c5698393b6d3"
      },
      "cell_type": "code",
      "source": [
        "!ls -l ckpt"
      ],
      "execution_count": 37,
      "outputs": [
        {
          "output_type": "stream",
          "text": [
            "total 247296\n",
            "-rw------- 1 root root      1717 Sep 27 15:19 checkpoint\n",
            "-rw------- 1 root root 189197224 Sep 27 15:16 tiny-yolo-nic-voc-32884.data-00000-of-00001\n",
            "-rw------- 1 root root      3568 Sep 27 15:16 tiny-yolo-nic-voc-32884.index\n",
            "-rw------- 1 root root  63594802 Sep 27 15:16 tiny-yolo-nic-voc-32884.meta\n",
            "-rw------- 1 root root    418751 Sep 27 15:16 tiny-yolo-nic-voc-32884.profile\n"
          ],
          "name": "stdout"
        }
      ]
    },
    {
      "metadata": {
        "id": "Djtv5SOdmskJ",
        "colab_type": "code",
        "colab": {}
      },
      "cell_type": "code",
      "source": [
        "!echo \"model_checkpoint_path: \\\"tiny-yolo-nic-voc-32884\\\"\\nall_model_checkpoint_paths: \\\"tiny-yolo-nic-voc-32884\\\"\" > ckpt/checkpoint"
      ],
      "execution_count": 0,
      "outputs": []
    },
    {
      "metadata": {
        "id": "jKIeBzVtmNjJ",
        "colab_type": "code",
        "colab": {
          "base_uri": "https://localhost:8080/",
          "height": 340
        },
        "outputId": "5e550679-fd47-46f9-9ba2-4031f30fecff"
      },
      "cell_type": "code",
      "source": [
        "!ls -l"
      ],
      "execution_count": 21,
      "outputs": [
        {
          "output_type": "stream",
          "text": [
            "total 14948\n",
            "drwxr-xr-x 2 root root     4096 Sep 27 15:07 bin\n",
            "drwxr-xr-x 4 root root     4096 Sep 27 15:07 build\n",
            "drwxr-xr-x 4 root root     4096 Sep 27 15:06 cfg\n",
            "drwxr-xr-x 2 root root     4096 Sep 27 15:16 cktp\n",
            "-rw-r--r-- 1 root root      293 Sep 27 15:06 create_own_dataset.py\n",
            "drwxr-xr-x 7 root root     4096 Sep 27 15:07 darkflow\n",
            "drwxr-xr-x 2 root root     4096 Sep 27 15:07 darkflow.egg-info\n",
            "-rw-r--r-- 1 root root 14900940 Sep 27 15:06 demo.gif\n",
            "-rwxr-xr-x 1 root root       94 Sep 27 15:06 flow\n",
            "drwxr-xr-x 2 root root     4096 Sep 27 15:06 img_diff\n",
            "-rw-r--r-- 1 root root        6 Sep 27 15:06 labels.txt\n",
            "-rw-r--r-- 1 root root    35141 Sep 27 15:06 LICENSE\n",
            "-rw-r--r-- 1 root root   283380 Sep 27 15:06 preview.png\n",
            "-rw-r--r-- 1 root root    11539 Sep 27 15:06 README.md\n",
            "drwxr-xr-x 3 root root     4096 Sep 27 15:11 sample_img\n",
            "-rw-r--r-- 1 root root     2575 Sep 27 15:06 setup.py\n",
            "drwxr-xr-x 3 root root     4096 Sep 27 15:06 test\n",
            "-rw-r--r-- 1 root root    12526 Sep 27 15:08 wget-log\n"
          ],
          "name": "stdout"
        }
      ]
    },
    {
      "metadata": {
        "id": "IsrHLqjzlCBS",
        "colab_type": "code",
        "colab": {
          "base_uri": "https://localhost:8080/",
          "height": 819
        },
        "outputId": "de844616-be20-4c12-ba33-0b0ac05f8d40"
      },
      "cell_type": "code",
      "source": [
        "!flow --model cfg/tiny-yolo-nic-voc.cfg --load -32884 --savepb --gpu -1.0"
      ],
      "execution_count": 43,
      "outputs": [
        {
          "output_type": "stream",
          "text": [
            "\n",
            "Parsing cfg/tiny-yolo-nic-voc.cfg\n",
            "Loading None ...\n",
            "Finished in 0.00010633468627929688s\n",
            "\n",
            "Building net ...\n",
            "Source | Train? | Layer description                | Output size\n",
            "-------+--------+----------------------------------+---------------\n",
            "       |        | input                            | (?, 416, 416, 3)\n",
            " Init  |  Yep!  | conv 3x3p1_1  +bnorm  leaky      | (?, 416, 416, 16)\n",
            " Load  |  Yep!  | maxp 2x2p0_2                     | (?, 208, 208, 16)\n",
            " Init  |  Yep!  | conv 3x3p1_1  +bnorm  leaky      | (?, 208, 208, 32)\n",
            " Load  |  Yep!  | maxp 2x2p0_2                     | (?, 104, 104, 32)\n",
            " Init  |  Yep!  | conv 3x3p1_1  +bnorm  leaky      | (?, 104, 104, 64)\n",
            " Load  |  Yep!  | maxp 2x2p0_2                     | (?, 52, 52, 64)\n",
            " Init  |  Yep!  | conv 3x3p1_1  +bnorm  leaky      | (?, 52, 52, 128)\n",
            " Load  |  Yep!  | maxp 2x2p0_2                     | (?, 26, 26, 128)\n",
            " Init  |  Yep!  | conv 3x3p1_1  +bnorm  leaky      | (?, 26, 26, 256)\n",
            " Load  |  Yep!  | maxp 2x2p0_2                     | (?, 13, 13, 256)\n",
            " Init  |  Yep!  | conv 3x3p1_1  +bnorm  leaky      | (?, 13, 13, 512)\n",
            " Load  |  Yep!  | maxp 2x2p0_1                     | (?, 13, 13, 512)\n",
            " Init  |  Yep!  | conv 3x3p1_1  +bnorm  leaky      | (?, 13, 13, 1024)\n",
            " Init  |  Yep!  | conv 3x3p1_1  +bnorm  leaky      | (?, 13, 13, 1024)\n",
            " Init  |  Yep!  | conv 1x1p0_1    linear           | (?, 13, 13, 30)\n",
            "-------+--------+----------------------------------+---------------\n",
            "Running entirely on CPU\n",
            "2018-09-27 15:51:42.047691: I tensorflow/core/common_runtime/gpu/gpu_device.cc:971] Device interconnect StreamExecutor with strength 1 edge matrix:\n",
            "2018-09-27 15:51:42.047755: I tensorflow/core/common_runtime/gpu/gpu_device.cc:977]      \n",
            "Loading from ./ckpt/tiny-yolo-nic-voc-32884\n",
            "Finished in 2.280217170715332s\n",
            "\n",
            "Rebuild a constant version ...\n",
            "2018-09-27 15:51:43.114278: I tensorflow/core/common_runtime/gpu/gpu_device.cc:971] Device interconnect StreamExecutor with strength 1 edge matrix:\n",
            "2018-09-27 15:51:43.114334: I tensorflow/core/common_runtime/gpu/gpu_device.cc:977]      \n",
            "2018-09-27 15:51:43.196994: I tensorflow/stream_executor/cuda/cuda_gpu_executor.cc:964] successful NUMA node read from SysFS had negative value (-1), but there must be at least one NUMA node, so returning NUMA node zero\n",
            "2018-09-27 15:51:43.197472: I tensorflow/core/common_runtime/gpu/gpu_device.cc:1411] Found device 0 with properties: \n",
            "name: Tesla K80 major: 3 minor: 7 memoryClockRate(GHz): 0.8235\n",
            "pciBusID: 0000:00:04.0\n",
            "totalMemory: 11.17GiB freeMemory: 11.10GiB\n",
            "2018-09-27 15:51:43.197511: I tensorflow/core/common_runtime/gpu/gpu_device.cc:1490] Adding visible gpu devices: 0\n",
            "2018-09-27 15:51:43.511266: I tensorflow/core/common_runtime/gpu/gpu_device.cc:971] Device interconnect StreamExecutor with strength 1 edge matrix:\n",
            "2018-09-27 15:51:43.511322: I tensorflow/core/common_runtime/gpu/gpu_device.cc:977]      0 \n",
            "2018-09-27 15:51:43.511352: I tensorflow/core/common_runtime/gpu/gpu_device.cc:990] 0:   N \n",
            "2018-09-27 15:51:43.511628: W tensorflow/core/common_runtime/gpu/gpu_bfc_allocator.cc:42] Overriding allow_growth setting because the TF_FORCE_GPU_ALLOW_GROWTH environment variable is set. Original config value was 0.\n",
            "2018-09-27 15:51:43.511709: I tensorflow/core/common_runtime/gpu/gpu_device.cc:1103] Created TensorFlow device (/job:localhost/replica:0/task:0/device:GPU:0 with 10759 MB memory) -> physical GPU (device: 0, name: Tesla K80, pci bus id: 0000:00:04.0, compute capability: 3.7)\n",
            "Done\n"
          ],
          "name": "stdout"
        }
      ]
    },
    {
      "metadata": {
        "id": "IBoLqafh4a6Q",
        "colab_type": "code",
        "colab": {
          "base_uri": "https://localhost:8080/",
          "height": 68
        },
        "outputId": "dbfe4f12-3b46-4c38-e625-0e8e1d33a0b0"
      },
      "cell_type": "code",
      "source": [
        "!ls -l built_graph"
      ],
      "execution_count": 44,
      "outputs": [
        {
          "output_type": "stream",
          "text": [
            "total 61620\n",
            "-rw-r--r-- 1 root root      803 Sep 27 15:51 tiny-yolo-nic-voc.meta\n",
            "-rw-r--r-- 1 root root 63091881 Sep 27 15:51 tiny-yolo-nic-voc.pb\n"
          ],
          "name": "stdout"
        }
      ]
    },
    {
      "metadata": {
        "id": "DtVYch494mzq",
        "colab_type": "code",
        "colab": {}
      },
      "cell_type": "code",
      "source": [
        "!cp -r built_graph \"/gdrive/My Drive/Colab/\""
      ],
      "execution_count": 0,
      "outputs": []
    },
    {
      "metadata": {
        "id": "iotTN3JlxQO3",
        "colab_type": "text"
      },
      "cell_type": "markdown",
      "source": [
        "#### recognize images\n"
      ]
    },
    {
      "metadata": {
        "id": "pSZJajJR5Ifl",
        "colab_type": "code",
        "colab": {
          "base_uri": "https://localhost:8080/",
          "height": 360
        },
        "outputId": "40d0c78e-726e-4775-d0e6-61b12260fc44"
      },
      "cell_type": "code",
      "source": [
        "!flow --imgdir \"/gdrive/My Drive/Colab/spark_test\" --metaLoad ./built_graph/tiny-yolo-nic-voc.meta --pbLoad ./built_graph/tiny-yolo-nic-voc.pb --gpu 1.0 "
      ],
      "execution_count": 47,
      "outputs": [
        {
          "output_type": "stream",
          "text": [
            "\n",
            "\n",
            "Loading from .pb and .meta\n",
            "GPU mode with 1.0 usage\n",
            "2018-09-27 15:57:55.972835: I tensorflow/stream_executor/cuda/cuda_gpu_executor.cc:964] successful NUMA node read from SysFS had negative value (-1), but there must be at least one NUMA node, so returning NUMA node zero\n",
            "2018-09-27 15:57:55.973290: I tensorflow/core/common_runtime/gpu/gpu_device.cc:1411] Found device 0 with properties: \n",
            "name: Tesla K80 major: 3 minor: 7 memoryClockRate(GHz): 0.8235\n",
            "pciBusID: 0000:00:04.0\n",
            "totalMemory: 11.17GiB freeMemory: 11.10GiB\n",
            "2018-09-27 15:57:55.973329: I tensorflow/core/common_runtime/gpu/gpu_device.cc:1490] Adding visible gpu devices: 0\n",
            "2018-09-27 15:57:56.267271: I tensorflow/core/common_runtime/gpu/gpu_device.cc:971] Device interconnect StreamExecutor with strength 1 edge matrix:\n",
            "2018-09-27 15:57:56.267372: I tensorflow/core/common_runtime/gpu/gpu_device.cc:977]      0 \n",
            "2018-09-27 15:57:56.267394: I tensorflow/core/common_runtime/gpu/gpu_device.cc:990] 0:   N \n",
            "2018-09-27 15:57:56.267654: W tensorflow/core/common_runtime/gpu/gpu_bfc_allocator.cc:42] Overriding allow_growth setting because the TF_FORCE_GPU_ALLOW_GROWTH environment variable is set. Original config value was 0.\n",
            "2018-09-27 15:57:56.267721: I tensorflow/core/common_runtime/gpu/gpu_device.cc:1103] Created TensorFlow device (/job:localhost/replica:0/task:0/device:GPU:0 with 11439 MB memory) -> physical GPU (device: 0, name: Tesla K80, pci bus id: 0000:00:04.0, compute capability: 3.7)\n",
            "Forwarding 12 inputs ...\n",
            "Total time = 1.9516823291778564s / 12 inps = 6.148541604644739 ips\n",
            "Post processing 12 inputs ...\n",
            "Total time = 0.5254518985748291s / 12 inps = 22.83748528180661 ips\n"
          ],
          "name": "stdout"
        }
      ]
    },
    {
      "metadata": {
        "id": "2TsIZFqLxVTY",
        "colab_type": "text"
      },
      "cell_type": "markdown",
      "source": [
        "#### recognize video"
      ]
    },
    {
      "metadata": {
        "id": "cK2bfJPd6Ccy",
        "colab_type": "code",
        "colab": {
          "base_uri": "https://localhost:8080/",
          "height": 377
        },
        "outputId": "d915e744-502a-4c30-cec8-42506fd775b4"
      },
      "cell_type": "code",
      "source": [
        "!flow --demo \"/gdrive/My Drive/Colab/spark_test/sparkwgarazu.mp4\" --metaLoad ./built_graph/tiny-yolo-nic-voc.meta --pbLoad ./built_graph/tiny-yolo-nic-voc.pb --gpu 1.0 --saveVideo"
      ],
      "execution_count": 49,
      "outputs": [
        {
          "output_type": "stream",
          "text": [
            "\n",
            "\n",
            "Loading from .pb and .meta\n",
            "GPU mode with 1.0 usage\n",
            "2018-09-27 16:10:59.092231: I tensorflow/stream_executor/cuda/cuda_gpu_executor.cc:964] successful NUMA node read from SysFS had negative value (-1), but there must be at least one NUMA node, so returning NUMA node zero\n",
            "2018-09-27 16:10:59.092677: I tensorflow/core/common_runtime/gpu/gpu_device.cc:1411] Found device 0 with properties: \n",
            "name: Tesla K80 major: 3 minor: 7 memoryClockRate(GHz): 0.8235\n",
            "pciBusID: 0000:00:04.0\n",
            "totalMemory: 11.17GiB freeMemory: 11.10GiB\n",
            "2018-09-27 16:10:59.092754: I tensorflow/core/common_runtime/gpu/gpu_device.cc:1490] Adding visible gpu devices: 0\n",
            "2018-09-27 16:10:59.376710: I tensorflow/core/common_runtime/gpu/gpu_device.cc:971] Device interconnect StreamExecutor with strength 1 edge matrix:\n",
            "2018-09-27 16:10:59.376773: I tensorflow/core/common_runtime/gpu/gpu_device.cc:977]      0 \n",
            "2018-09-27 16:10:59.376802: I tensorflow/core/common_runtime/gpu/gpu_device.cc:990] 0:   N \n",
            "2018-09-27 16:10:59.377062: W tensorflow/core/common_runtime/gpu/gpu_bfc_allocator.cc:42] Overriding allow_growth setting because the TF_FORCE_GPU_ALLOW_GROWTH environment variable is set. Original config value was 0.\n",
            "2018-09-27 16:10:59.377127: I tensorflow/core/common_runtime/gpu/gpu_device.cc:1103] Created TensorFlow device (/job:localhost/replica:0/task:0/device:GPU:0 with 11439 MB memory) -> physical GPU (device: 0, name: Tesla K80, pci bus id: 0000:00:04.0, compute capability: 3.7)\n",
            "Press [ESC] to quit demo\n",
            "34.198 FPS\n",
            "End of Video\n",
            "\n",
            "Demo stopped, exit.\n"
          ],
          "name": "stdout"
        }
      ]
    },
    {
      "metadata": {
        "id": "97sHIag45QHE",
        "colab_type": "code",
        "colab": {}
      },
      "cell_type": "code",
      "source": [
        "# Install the PyDrive wrapper & import libraries.\n",
        "# This only needs to be done once in a notebook.\n",
        "!pip install -U -q PyDrive\n",
        "from pydrive.auth import GoogleAuth\n",
        "from pydrive.drive import GoogleDrive\n",
        "from google.colab import auth\n",
        "from oauth2client.client import GoogleCredentials\n",
        "\n",
        "# Authenticate and create the PyDrive client.\n",
        "# This only needs to be done once in a notebook.\n",
        "auth.authenticate_user()\n",
        "gauth = GoogleAuth()\n",
        "gauth.credentials = GoogleCredentials.get_application_default()\n",
        "drive = GoogleDrive(gauth)"
      ],
      "execution_count": 0,
      "outputs": []
    },
    {
      "metadata": {
        "id": "YNkOR5jG0Een",
        "colab_type": "code",
        "colab": {
          "base_uri": "https://localhost:8080/",
          "height": 34
        },
        "outputId": "7ec4e9f3-cf98-4328-be3c-eafacd3c955a"
      },
      "cell_type": "code",
      "source": [
        "# Create & upload a text file.\n",
        "uploaded = drive.CreateFile({'title': 'video.avi'})\n",
        "uploaded.SetContentFile('video.avi')\n",
        "uploaded.Upload()\n",
        "print('Uploaded file with ID {}'.format(uploaded.get('id')))"
      ],
      "execution_count": 51,
      "outputs": [
        {
          "output_type": "stream",
          "text": [
            "Uploaded file with ID 1HSrNcbdtqLH-39NCeASDF8ru2ydOGWx8\n"
          ],
          "name": "stdout"
        }
      ]
    }
  ]
}